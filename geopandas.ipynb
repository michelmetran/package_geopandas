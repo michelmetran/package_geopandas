{
 "cells": [
  {
   "cell_type": "markdown",
   "metadata": {},
   "source": [
    "# Dados do Projeto\n",
    "\n",
    "Inicialmente faz-se necessária a criação de pastas aonde serão armazenados os dados do projeto. Para tanto aplica-se o código abaixo, de um função anteriormente criada chamada _create_folders_, localizada no diretório que está no meu computador."
   ]
  },
  {
   "cell_type": "code",
   "execution_count": null,
   "metadata": {},
   "outputs": [],
   "source": [
    "%run '../codes/files/create_folders.py'\n",
    "create_folders('', ['data', 'docs', 'maps'])"
   ]
  },
  {
   "cell_type": "markdown",
   "metadata": {},
   "source": [
    "Após isso é necessário fazer o *download* os dados espaciais do projeto que, no caso concreto, trata-se da divisão municipal. Aqui optou-se por baixar os dados de duas fontes diferentes, sendo uma do **Instituto Brasileiro de Geografia e Estatistica (IBGE)** e a outra fonte é do **Instituto Geográfico e Cartográfico de São Paulo (IGC-SP)**.\n",
    "\n",
    "Os dados do **IBGE** estão em escala 1:250.000 e atendem o objetivo do projeto, ou seja, que é demostrar quais municípios são geridos por quais órgãos/instituiçoes. Portanto, faz-se o *download* do arquivo zipado do **IBGE** e se descompacta o arquivo _shapefile_. Aproveitou-se para renomear o arquivo um nome mais inteligível."
   ]
  },
  {
   "cell_type": "code",
   "execution_count": null,
   "metadata": {},
   "outputs": [],
   "source": [
    "# Carregar pacotes\n",
    "import os\n",
    "import urllib.request\n",
    "import shutil\n",
    "\n",
    "# Define o nome do arquivo zip a ser salvo\n",
    "file = 'SP_IBGE_250k'\n",
    "\n",
    "# Define o nome do arquivo, com diretório, que será salvo\n",
    "filename = os.path.join('data', file + '.zip')\n",
    "\n",
    "# URL para baixar o arquivo zip\n",
    "url = ('http://geoftp.ibge.gov.br/organizacao_do_territorio/malhas_territoriais/'+\n",
    "       'malhas_municipais/municipio_2018/UFs/'+\n",
    "       'SP/sp_municipios.zip')\n",
    "\n",
    "# Faz o download do arquivo da 'url' e salva localmente com o nome do arquivo\n",
    "with urllib.request.urlopen(url) as response, open(filename, 'wb') as out_file:\n",
    "       shutil.copyfileobj(response, out_file)\n",
    "\n",
    "# Tira da pasta zipada e renomeia arquivos\n",
    "%run '../codes/files/zip_file.py'\n",
    "unzip_renaming(filename, file)"
   ]
  },
  {
   "cell_type": "markdown",
   "metadata": {},
   "source": [
    "Processo similar foi feito com a divisão municipal disponibilizada pelo **Instituto Geográfico e Cartográfico de São Paulo (IGC-SP)**, que são de escala 1:50.000. Foi feito o *download* dos dados por meio do Portal DataGeo, posteriormente os dados foram descompactados e renomeados."
   ]
  },
  {
   "cell_type": "code",
   "execution_count": null,
   "metadata": {},
   "outputs": [],
   "source": [
    "# Carregar pacotes\n",
    "import os\n",
    "import urllib.request\n",
    "import shutil\n",
    "\n",
    "# Define o nome do arquivo zip a ser salvo\n",
    "file = 'SP_IGC_50k'\n",
    "\n",
    "# Define o nome do arquivo, com diretório, que será salvo\n",
    "filename = os.path.join('data', file + '.zip')\n",
    "\n",
    "# URL para baixar o arquivo zip\n",
    "url = ('http://datageo.ambiente.sp.gov.br/geoserver/datageo/'+\n",
    "       'LimiteMunicipal/wfs'+\n",
    "       '?version=1.0.0'+\n",
    "       '&request=GetFeature&outputFormat=SHAPE-ZIP'+\n",
    "       '&typeName=LimiteMunicipal')\n",
    "\n",
    "# Faz o download do arquivo da 'url' e salva localmente com o nome do arquivo\n",
    "with urllib.request.urlopen(url) as response, open(filename, 'wb') as out_file:\n",
    "       shutil.copyfileobj(response, out_file)\n",
    "\n",
    "# Tira da pasta zipada e renomeia arquivos\n",
    "%run '../codes/files/zip_file.py'\n",
    "unzip_renaming(filename, file)"
   ]
  },
  {
   "cell_type": "markdown",
   "metadata": {},
   "source": [
    "# Geopandas\n",
    "\n",
    "Pacota para manusear arquivos espaciais\n",
    "http://geopandas.org/\n",
    "\n",
    "\n"
   ]
  },
  {
   "cell_type": "markdown",
   "metadata": {},
   "source": [
    "## Lendo Arquivos"
   ]
  },
  {
   "cell_type": "code",
   "execution_count": null,
   "metadata": {},
   "outputs": [],
   "source": [
    "import os\n",
    "import geopandas as gpd\n",
    "\n",
    "file = 'SP_IBGE_250k'\n",
    "#file = 'SP_IGC_50k'\n",
    "\n",
    "shp = os.path.join('data', file + '.shp')\n",
    "dbf = os.path.join('data', file + '.dbf')\n",
    "\n",
    "gdf = gpd.read_file(shp)\n",
    "gdf"
   ]
  },
  {
   "cell_type": "code",
   "execution_count": null,
   "metadata": {},
   "outputs": [],
   "source": [
    "%run '../codes/files/predict_encoding.py'\n",
    "file_encoding = predict_encoding(dbf)\n",
    "print(file_encoding)"
   ]
  },
  {
   "cell_type": "code",
   "execution_count": null,
   "metadata": {},
   "outputs": [],
   "source": [
    "gdf.plot()"
   ]
  },
  {
   "cell_type": "code",
   "execution_count": null,
   "metadata": {},
   "outputs": [],
   "source": [
    "gdf.crs"
   ]
  },
  {
   "cell_type": "markdown",
   "metadata": {},
   "source": [
    "## Editando Colunas"
   ]
  },
  {
   "cell_type": "code",
   "execution_count": null,
   "metadata": {},
   "outputs": [],
   "source": [
    "# Renomeia colunas\n",
    "gdf=gdf.rename(index=str,\n",
    "               columns={'NM_MUNICIP':'Nome_Município',\n",
    "                        'CD_GEOCMU':'Geocódigo'})\n",
    "\n",
    "gdf"
   ]
  },
  {
   "cell_type": "code",
   "execution_count": null,
   "metadata": {},
   "outputs": [],
   "source": [
    "# Reordena colunas\n",
    "gdf=gdf[['Geocódigo',\n",
    "         'Nome_Município',\n",
    "         'geometry']]\n",
    "\n",
    "gdf"
   ]
  },
  {
   "cell_type": "code",
   "execution_count": null,
   "metadata": {},
   "outputs": [],
   "source": [
    "# Define Campo com uma constante\n",
    "gdf = gdf.assign(ID_Number=1)\n",
    "gdf = gdf.assign(ID_Text='Text')\n",
    "\n",
    "# Calcula o Área e Commprimento\n",
    "gdf['Perímetro'] = gdf['geometry'].length\n",
    "gdf['Área'] = gdf['geometry'].area\n",
    "\n",
    "# Cálculos Simples\n",
    "gdf['Cálculo'] = gdf.Perímetro * 2\n",
    "\n",
    "# Arredonda Valores Núméricos\n",
    "gdf['Perímetro Arredondado'] = round(gdf.Perímetro,0)\n",
    "\n",
    "# Substitui textos\n",
    "gdf['Nome_Município'] = gdf.Nome_Município.replace('AURIFLAMA', 'ssss')\n",
    "\n",
    "# Pega apenas os três primeiros caracteres\n",
    "gdf['Início Município'] = gdf.Nome_Município.astype(str).str[0:3]\n",
    "\n",
    "# Pega apenas os três primeiros caracteres de um campo de número de maneira mais eficiente\n",
    "gdf['ID_Município'] = [x[0:7] for x in gdf['Geocódigo']]\n",
    "gdf['ID_Microregião'] = [x[0:5] for x in gdf['Geocódigo']]\n",
    "gdf['ID_Mesoregião'] = [x[0:4] for x in gdf['Geocódigo']]\n",
    "gdf['ID_Estado'] = [x[0:2] for x in gdf['Geocódigo']]\n",
    "\n",
    "# Pega apenas os três primeiros caracteres de um campo de texto de maneira mais eficiente\n",
    "gdf['Primeiro Caractere'] = [str(x)[0] for x in gdf['Nome_Município']]\n",
    "\n",
    "gdf"
   ]
  },
  {
   "cell_type": "code",
   "execution_count": null,
   "metadata": {},
   "outputs": [],
   "source": [
    "# Deleta colunas\n",
    "gdf=gdf.drop(['ID_Text'], axis=1)\n",
    "gdf=gdf.drop(['Perímetro Arredondado', 'ID_Number'], axis=1)\n",
    "\n",
    "gdf"
   ]
  },
  {
   "cell_type": "code",
   "execution_count": null,
   "metadata": {},
   "outputs": [],
   "source": [
    "gdf.bounds"
   ]
  },
  {
   "cell_type": "markdown",
   "metadata": {},
   "source": [
    "## Projeções e Transformações"
   ]
  },
  {
   "cell_type": "code",
   "execution_count": null,
   "metadata": {},
   "outputs": [],
   "source": [
    "# Projeções e Transformações\n",
    "# https://epsg.io/\n",
    "\n",
    "# get the defined CRS (Coordinate Reference Systems) of a GeoDataFrame\n",
    "print(gdf.crs)\n",
    "gdf.plot()\n",
    "\n",
    "# Set the CRS (Coordinate Reference Systems) to a GeoDataFrame\n",
    "#gdf.crs = from_epsg(3879)\n",
    "\n",
    "# Project the GeoDataFrame to another CRS (Coordinate Reference Systems)\n",
    "#gdf2 = gdf.to_crs({'init': 'epsg:3395'})\n",
    "gdf2 = gdf.to_crs(\"+proj=eck4 +lon_0=0 +x_0=0 +y_0=0 +datum=WGS84 +units=m +no_defs\")\n",
    "gdf2.plot()"
   ]
  },
  {
   "cell_type": "markdown",
   "metadata": {},
   "source": [
    "## Escrever Arquivos"
   ]
  },
  {
   "cell_type": "code",
   "execution_count": null,
   "metadata": {},
   "outputs": [],
   "source": [
    "# save GeoDataFrame as a new file\n",
    "\n",
    "gdf.to_file(os.path.join('data', 'SaoPaulo2' + '.shp'), encoding='utf-8')\n",
    "gdf.to_file(os.path.join('data', 'SaoPaulo6' + '.geojson'), driver='GeoJSON', encoding='utf-8')\n",
    "gdf.to_file(os.path.join('data', 'SaoPau' + '.gpkg'), layer='SaoPau', driver=\"GPKG\")"
   ]
  },
  {
   "cell_type": "markdown",
   "metadata": {},
   "source": [
    "# Exercício\n"
   ]
  },
  {
   "cell_type": "markdown",
   "metadata": {},
   "source": [
    "## Loop\n",
    "1. Selecionar 'Município' ou 'Conjunto de Municípios', por nome, código ou intersect.\n",
    "\n",
    "2. Selecionar por localização \n",
    "\n",
    "3. for X in N_Escala\n",
    "\tSeleciona cidades que compartilham limites\n",
    "\textrair cidadesadiciona campo X\n",
    "\tappend\n"
   ]
  },
  {
   "cell_type": "code",
   "execution_count": null,
   "metadata": {},
   "outputs": [],
   "source": [
    "selection = gdf[gdf['Nome_Município'] == 'SANTOS']\n",
    "selection"
   ]
  },
  {
   "cell_type": "code",
   "execution_count": null,
   "metadata": {},
   "outputs": [],
   "source": [
    "gdf['my_neighbors'] = None\n",
    "\n",
    "for index, row in gdf.iterrows():\n",
    "    #print(row)\n",
    "    neighbors = gdf[gdf.geometry.touches(row['geometry'])].Nome_Município.tolist()\n",
    "    #print(neighbors)\n",
    "    #neighbors = neighbors.remove(row.name)\n",
    "    #print(row.name)\n",
    "    #print(neighbors)\n",
    "    gdf.at[index, \"my_neighbors\"] = \", \".join(neighbors)"
   ]
  },
  {
   "cell_type": "code",
   "execution_count": null,
   "metadata": {},
   "outputs": [],
   "source": [
    "selection = gdf[gdf['Nome_Município'] == 'SANTOS']\n",
    "selection"
   ]
  },
  {
   "cell_type": "code",
   "execution_count": null,
   "metadata": {},
   "outputs": [],
   "source": [
    "import fiona"
   ]
  },
  {
   "cell_type": "code",
   "execution_count": null,
   "metadata": {},
   "outputs": [],
   "source": [
    "fiona.supported_drivers"
   ]
  },
  {
   "cell_type": "code",
   "execution_count": null,
   "metadata": {},
   "outputs": [],
   "source": [
    "#https://rsandstroem.github.io/GeoMapsFoliumDemo.html\n",
    "#https://michelleful.github.io/code-blog/2015/04/29/geopandas-manipulation/"
   ]
  },
  {
   "cell_type": "markdown",
   "metadata": {},
   "source": [
    "# GitHub"
   ]
  },
  {
   "cell_type": "code",
   "execution_count": null,
   "metadata": {},
   "outputs": [],
   "source": [
    "%run '~/Documents/Geodata/SourceCode/codes/git/update_github.py'\n",
    "\n",
    "git_full('/home/michel/Documents/Geodata/SourceCode/package_geopandas', '.', 'Atualizando')"
   ]
  }
 ],
 "metadata": {
  "celltoolbar": "Raw Cell Format",
  "kernelspec": {
   "display_name": "Python 3",
   "language": "python",
   "name": "python3"
  },
  "language_info": {
   "codemirror_mode": {
    "name": "ipython",
    "version": 3
   },
   "file_extension": ".py",
   "mimetype": "text/x-python",
   "name": "python",
   "nbconvert_exporter": "python",
   "pygments_lexer": "ipython3",
   "version": "3.8.2"
  },
  "toc": {
   "base_numbering": 1,
   "nav_menu": {},
   "number_sections": true,
   "sideBar": true,
   "skip_h1_title": false,
   "title_cell": "Table of Contents",
   "title_sidebar": "Contents",
   "toc_cell": false,
   "toc_position": {
    "height": "calc(100% - 180px)",
    "left": "10px",
    "top": "150px",
    "width": "218px"
   },
   "toc_section_display": true,
   "toc_window_display": true
  }
 },
 "nbformat": 4,
 "nbformat_minor": 4
}
